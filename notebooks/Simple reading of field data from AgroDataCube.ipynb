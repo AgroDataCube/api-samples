{
 "cells": [
  {
   "cell_type": "code",
   "execution_count": 1,
   "metadata": {},
   "outputs": [],
   "source": [
    "import os\n",
    "import requests\n",
    "import json\n",
    "import geojson"
   ]
  },
  {
   "cell_type": "code",
   "execution_count": 2,
   "metadata": {},
   "outputs": [],
   "source": [
    "# your AgroDataCube access token - replace this code or add the OS environment variable\n",
    "token = os.environ[\"AGRODATACUBE_TOKEN\"]"
   ]
  },
  {
   "cell_type": "code",
   "execution_count": 3,
   "metadata": {},
   "outputs": [],
   "source": [
    "url = \"http://agrodatacube.wur.nl/api/v1/rest/fields?year=2017&page_size=3\""
   ]
  },
  {
   "cell_type": "code",
   "execution_count": 4,
   "metadata": {},
   "outputs": [],
   "source": [
    "header_token = {\"token\":token}\n",
    "\n",
    "response = requests.get(url, headers=header_token)\n",
    "\n",
    "fields = geojson.loads(response.content)"
   ]
  },
  {
   "cell_type": "code",
   "execution_count": 5,
   "metadata": {},
   "outputs": [
    {
     "name": "stdout",
     "output_type": "stream",
     "text": [
      "year: 2017 fieldId: 6259756 crop: Grasland, blijvend\n",
      "year: 2017 fieldId: 6259757 crop: Bieten, suiker-\n",
      "year: 2017 fieldId: 6259758 crop: Bieten, suiker-\n"
     ]
    }
   ],
   "source": [
    "for i in range(len(fields['features'])):\n",
    "    year = fields['features'][i]['properties']['year']\n",
    "    fieldId = fields['features'][i]['properties']['fieldid']\n",
    "    cropName = fields['features'][i]['properties']['crop_name']    \n",
    "    print(\"year:\", year, \"fieldId:\", fieldId, \"crop:\", cropName)\n"
   ]
  },
  {
   "cell_type": "code",
   "execution_count": null,
   "metadata": {},
   "outputs": [],
   "source": []
  }
 ],
 "metadata": {
  "kernelspec": {
   "display_name": "Python 3",
   "language": "python",
   "name": "python3"
  },
  "language_info": {
   "codemirror_mode": {
    "name": "ipython",
    "version": 3
   },
   "file_extension": ".py",
   "mimetype": "text/x-python",
   "name": "python",
   "nbconvert_exporter": "python",
   "pygments_lexer": "ipython3",
   "version": "3.6.5"
  },
  "toc": {
   "base_numbering": 1,
   "nav_menu": {},
   "number_sections": false,
   "sideBar": false,
   "skip_h1_title": false,
   "title_cell": "Table of Contents",
   "title_sidebar": "Contents",
   "toc_cell": false,
   "toc_position": {},
   "toc_section_display": false,
   "toc_window_display": false
  },
  "widgets": {
   "application/vnd.jupyter.widget-state+json": {
    "state": {},
    "version_major": 2,
    "version_minor": 0
   }
  }
 },
 "nbformat": 4,
 "nbformat_minor": 2
}
