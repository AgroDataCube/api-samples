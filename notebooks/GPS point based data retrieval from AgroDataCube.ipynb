{
 "cells": [
  {
   "cell_type": "code",
   "execution_count": 1,
   "metadata": {},
   "outputs": [],
   "source": [
    "import os\n",
    "import requests\n",
    "import datetime"
   ]
  },
  {
   "cell_type": "code",
   "execution_count": 2,
   "metadata": {},
   "outputs": [],
   "source": [
    "# your AgroDataCube access token - replace this code or add the OS environment variable\n",
    "token = os.environ[\"AGRODATACUBE_TOKEN\"]"
   ]
  },
  {
   "cell_type": "code",
   "execution_count": 3,
   "metadata": {},
   "outputs": [],
   "source": [
    "request_header = {\"token\":token}"
   ]
  },
  {
   "cell_type": "code",
   "execution_count": 4,
   "metadata": {},
   "outputs": [
    {
     "data": {
      "text/plain": [
       "9"
      ]
     },
     "execution_count": 4,
     "metadata": {},
     "output_type": "execute_result"
    }
   ],
   "source": [
    "# GPS point to retrieve data at\n",
    "long_dec_deg = 5.65138889 \n",
    "lat_dec_deg  = 52.74305556\n",
    "\n",
    "# read the fields at the point for all available years\n",
    "fields_url = \"http://agrodatacube.wur.nl/api/v1/rest/fields?geometry=POINT({0}%20{1})&epsg=4326&output_epsg=4326&page_size=1000&page_offset=0\".format(long_dec_deg, lat_dec_deg)\n",
    "fields_data = requests.get(fields_url, headers=request_header)\n",
    "fields = fields_data.json()\n",
    "len(fields[\"features\"])"
   ]
  },
  {
   "cell_type": "code",
   "execution_count": 5,
   "metadata": {},
   "outputs": [
    {
     "name": "stdout",
     "output_type": "stream",
     "text": [
      "2009 263305 1928 Aardappelrassen, poot- op kleigrond\n",
      "2010 925797 2030 Graszaad, Engels raai 1e jaar\n",
      "2011 2272486 176 Bloembollen en - knollen\n",
      "2012 2679203 3730 Aardappelen, poot op klei/lössgrond\n",
      "2013 3860159 262 Uien, zaai-\n",
      "2013-02-21 0.4086\n",
      "2013-02-22 0.4067\n",
      "2013-03-04 0.4468\n",
      "2013-03-26 0.3818\n",
      "2013-04-01 0.1379\n",
      "2014 4479827 672 Groenten open grond (inclusief groentezaden)\n",
      "2014-01-28 0.6183\n",
      "2014-02-02 0.5748\n",
      "2014-02-05 0.6666\n",
      "2014-03-02 0.5213\n",
      "2014-03-08 0.5254\n",
      "2015 5338225 2015 Aardappelen, poot NAK\n",
      "2015-01-07 0.238\n",
      "2015-01-17 0.2558\n",
      "2015-02-16 0.1724\n",
      "2015-03-01 0.1884\n",
      "2015-03-08 0.2131\n",
      "2016 5777538 266 Grasland, tijdelijk\n",
      "2016-01-10 0.2978\n",
      "2016-01-28 0.3417\n",
      "2016-02-17 0.3695\n",
      "2016-02-27 0.3975\n",
      "2016-03-12 0.4042\n",
      "2017 6710122 1004 Tulp, bloembollen en -knollen\n",
      "2017-02-15 0.244\n",
      "2017-03-27 0.444\n",
      "2017-05-26 0.604\n",
      "2017-08-29 0.876\n",
      "2017-09-13 0.856\n"
     ]
    }
   ],
   "source": [
    "# for each field retrieve the available NDVI data\n",
    "for field in fields[\"features\"]:\n",
    "    field_id = field[\"properties\"][\"fieldid\"]\n",
    "    field_year = field[\"properties\"][\"year\"]\n",
    "    crop_code = field[\"properties\"][\"crop_code\"]\n",
    "    crop_name = field[\"properties\"][\"crop_name\"]\n",
    "    \n",
    "    ndvi_url = \"http://agrodatacube.wur.nl/api/v1/rest/fields/{0}/ndvi?fromdate={1}&todate={2}\".format(field_id, field_year, field_year)\n",
    "    ndvi_data = requests.get(ndvi_url, headers=request_header)\n",
    "    ndvi_timeseries = ndvi_data.json()\n",
    "    \n",
    "    print(field_year, field_id, crop_code, crop_name)\n",
    "\n",
    "    for ndvi in ndvi_timeseries[\"features\"]:\n",
    "        print(ndvi[\"properties\"][\"datum\"], ndvi[\"properties\"][\"ndvi_value\"])\n",
    "    "
   ]
  },
  {
   "cell_type": "code",
   "execution_count": 6,
   "metadata": {},
   "outputs": [],
   "source": [
    "# TODO sort the output by field_year"
   ]
  }
 ],
 "metadata": {
  "kernelspec": {
   "display_name": "Python 3",
   "language": "python",
   "name": "python3"
  },
  "language_info": {
   "codemirror_mode": {
    "name": "ipython",
    "version": 3
   },
   "file_extension": ".py",
   "mimetype": "text/x-python",
   "name": "python",
   "nbconvert_exporter": "python",
   "pygments_lexer": "ipython3",
   "version": "3.6.5"
  },
  "toc": {
   "base_numbering": 1,
   "nav_menu": {},
   "number_sections": false,
   "sideBar": false,
   "skip_h1_title": false,
   "title_cell": "Table of Contents",
   "title_sidebar": "Contents",
   "toc_cell": false,
   "toc_position": {},
   "toc_section_display": false,
   "toc_window_display": false
  }
 },
 "nbformat": 4,
 "nbformat_minor": 2
}
